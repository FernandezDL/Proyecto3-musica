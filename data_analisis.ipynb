{
 "cells": [
  {
   "cell_type": "markdown",
   "id": "f9d13562",
   "metadata": {},
   "source": [
    "# Proyecto 3"
   ]
  },
  {
   "cell_type": "markdown",
   "id": "3df7be56",
   "metadata": {},
   "source": [
    "### Importar Datos"
   ]
  },
  {
   "cell_type": "code",
   "execution_count": 8,
   "id": "8794cf83",
   "metadata": {},
   "outputs": [
    {
     "data": {
      "text/html": [
       "<div>\n",
       "<style scoped>\n",
       "    .dataframe tbody tr th:only-of-type {\n",
       "        vertical-align: middle;\n",
       "    }\n",
       "\n",
       "    .dataframe tbody tr th {\n",
       "        vertical-align: top;\n",
       "    }\n",
       "\n",
       "    .dataframe thead th {\n",
       "        text-align: right;\n",
       "    }\n",
       "</style>\n",
       "<table border=\"1\" class=\"dataframe\">\n",
       "  <thead>\n",
       "    <tr style=\"text-align: right;\">\n",
       "      <th></th>\n",
       "      <th>FECHA</th>\n",
       "      <th>HORA</th>\n",
       "      <th>ESTADO</th>\n",
       "      <th>TIPO_TRAFICO</th>\n",
       "      <th>NOMBRE</th>\n",
       "    </tr>\n",
       "  </thead>\n",
       "  <tbody>\n",
       "    <tr>\n",
       "      <th>0</th>\n",
       "      <td>2025-09-01</td>\n",
       "      <td>05:00</td>\n",
       "      <td>2</td>\n",
       "      <td>moderado</td>\n",
       "      <td>20 CALLE - 18 AVENIDA</td>\n",
       "    </tr>\n",
       "    <tr>\n",
       "      <th>1</th>\n",
       "      <td>2025-09-01</td>\n",
       "      <td>05:00</td>\n",
       "      <td>2</td>\n",
       "      <td>moderado</td>\n",
       "      <td>PROCERES - OBELISCO</td>\n",
       "    </tr>\n",
       "    <tr>\n",
       "      <th>2</th>\n",
       "      <td>2025-09-01</td>\n",
       "      <td>05:00</td>\n",
       "      <td>5</td>\n",
       "      <td>congestion grabe</td>\n",
       "      <td>ROOSEVELTH - TREBOL</td>\n",
       "    </tr>\n",
       "    <tr>\n",
       "      <th>3</th>\n",
       "      <td>2025-09-01</td>\n",
       "      <td>05:00</td>\n",
       "      <td>2</td>\n",
       "      <td>moderado</td>\n",
       "      <td>AG. BATRES - TREBOL</td>\n",
       "    </tr>\n",
       "    <tr>\n",
       "      <th>4</th>\n",
       "      <td>2025-09-01</td>\n",
       "      <td>05:00</td>\n",
       "      <td>4</td>\n",
       "      <td>congestion 5km/hora</td>\n",
       "      <td>SAN JUAN - TREBOL</td>\n",
       "    </tr>\n",
       "  </tbody>\n",
       "</table>\n",
       "</div>"
      ],
      "text/plain": [
       "        FECHA   HORA  ESTADO          TIPO_TRAFICO                 NOMBRE\n",
       "0  2025-09-01  05:00       2              moderado  20 CALLE - 18 AVENIDA\n",
       "1  2025-09-01  05:00       2              moderado    PROCERES - OBELISCO\n",
       "2  2025-09-01  05:00       5      congestion grabe    ROOSEVELTH - TREBOL\n",
       "3  2025-09-01  05:00       2              moderado    AG. BATRES - TREBOL\n",
       "4  2025-09-01  05:00       4  congestion 5km/hora       SAN JUAN - TREBOL"
      ]
     },
     "execution_count": 8,
     "metadata": {},
     "output_type": "execute_result"
    }
   ],
   "source": [
    "import pandas as pd\n",
    "\n",
    "df = pd.read_csv(\"pmt_septiembre.csv\")\n",
    "\n",
    "df.head()"
   ]
  },
  {
   "cell_type": "markdown",
   "id": "e85d3822",
   "metadata": {},
   "source": [
    "### Descripción de datos"
   ]
  },
  {
   "cell_type": "code",
   "execution_count": 9,
   "id": "3b696206",
   "metadata": {},
   "outputs": [
    {
     "name": "stdout",
     "output_type": "stream",
     "text": [
      "<class 'pandas.core.frame.DataFrame'>\n",
      "RangeIndex: 4826 entries, 0 to 4825\n",
      "Data columns (total 5 columns):\n",
      " #   Column        Non-Null Count  Dtype \n",
      "---  ------        --------------  ----- \n",
      " 0   FECHA         4826 non-null   object\n",
      " 1   HORA          4826 non-null   object\n",
      " 2   ESTADO        4826 non-null   int64 \n",
      " 3   TIPO_TRAFICO  4826 non-null   object\n",
      " 4   NOMBRE        4826 non-null   object\n",
      "dtypes: int64(1), object(4)\n",
      "memory usage: 188.6+ KB\n"
     ]
    },
    {
     "data": {
      "text/html": [
       "<div>\n",
       "<style scoped>\n",
       "    .dataframe tbody tr th:only-of-type {\n",
       "        vertical-align: middle;\n",
       "    }\n",
       "\n",
       "    .dataframe tbody tr th {\n",
       "        vertical-align: top;\n",
       "    }\n",
       "\n",
       "    .dataframe thead th {\n",
       "        text-align: right;\n",
       "    }\n",
       "</style>\n",
       "<table border=\"1\" class=\"dataframe\">\n",
       "  <thead>\n",
       "    <tr style=\"text-align: right;\">\n",
       "      <th></th>\n",
       "      <th>ESTADO</th>\n",
       "    </tr>\n",
       "  </thead>\n",
       "  <tbody>\n",
       "    <tr>\n",
       "      <th>count</th>\n",
       "      <td>4826.000000</td>\n",
       "    </tr>\n",
       "    <tr>\n",
       "      <th>mean</th>\n",
       "      <td>2.926026</td>\n",
       "    </tr>\n",
       "    <tr>\n",
       "      <th>std</th>\n",
       "      <td>0.867919</td>\n",
       "    </tr>\n",
       "    <tr>\n",
       "      <th>min</th>\n",
       "      <td>1.000000</td>\n",
       "    </tr>\n",
       "    <tr>\n",
       "      <th>25%</th>\n",
       "      <td>2.000000</td>\n",
       "    </tr>\n",
       "    <tr>\n",
       "      <th>50%</th>\n",
       "      <td>3.000000</td>\n",
       "    </tr>\n",
       "    <tr>\n",
       "      <th>75%</th>\n",
       "      <td>4.000000</td>\n",
       "    </tr>\n",
       "    <tr>\n",
       "      <th>max</th>\n",
       "      <td>5.000000</td>\n",
       "    </tr>\n",
       "  </tbody>\n",
       "</table>\n",
       "</div>"
      ],
      "text/plain": [
       "            ESTADO\n",
       "count  4826.000000\n",
       "mean      2.926026\n",
       "std       0.867919\n",
       "min       1.000000\n",
       "25%       2.000000\n",
       "50%       3.000000\n",
       "75%       4.000000\n",
       "max       5.000000"
      ]
     },
     "execution_count": 9,
     "metadata": {},
     "output_type": "execute_result"
    }
   ],
   "source": [
    "df.info()\n",
    "df.describe()"
   ]
  },
  {
   "cell_type": "markdown",
   "id": "8127b332",
   "metadata": {},
   "source": [
    "### Creación de labels"
   ]
  },
  {
   "cell_type": "code",
   "execution_count": 10,
   "id": "54345c4d",
   "metadata": {},
   "outputs": [
    {
     "name": "stdout",
     "output_type": "stream",
     "text": [
      "TIPO_TRAFICO codificado:\n",
      "{0: 'moderado', 1: 'congestion grabe', 2: 'congestion 5km/hora ', 3: 'trafico 10km/hora', 4: 'fluido'}\n",
      "\n",
      "NOMBRE codificado:\n",
      "{0: '20 CALLE - 18 AVENIDA', 1: 'PROCERES - OBELISCO', 2: 'ROOSEVELTH - TREBOL', 3: 'AG. BATRES - TREBOL', 4: 'SAN JUAN - TREBOL', 5: 'KM 4.5 - JOSE MILLA', 6: 'KM 9 - KM 4.5 ATLANTICO', 7: 'BLVD. LOURDES - ZONA 4', 8: 'LOS OLIVOS - ATLANTIDA', 9: 'ATANASIO 53 - ATANASIO 8'}\n"
     ]
    },
    {
     "data": {
      "text/html": [
       "<div>\n",
       "<style scoped>\n",
       "    .dataframe tbody tr th:only-of-type {\n",
       "        vertical-align: middle;\n",
       "    }\n",
       "\n",
       "    .dataframe tbody tr th {\n",
       "        vertical-align: top;\n",
       "    }\n",
       "\n",
       "    .dataframe thead th {\n",
       "        text-align: right;\n",
       "    }\n",
       "</style>\n",
       "<table border=\"1\" class=\"dataframe\">\n",
       "  <thead>\n",
       "    <tr style=\"text-align: right;\">\n",
       "      <th></th>\n",
       "      <th>FECHA</th>\n",
       "      <th>HORA</th>\n",
       "      <th>ESTADO</th>\n",
       "      <th>TIPO_TRAFICO</th>\n",
       "      <th>NOMBRE</th>\n",
       "      <th>TIPO_TRAFICO_INT</th>\n",
       "      <th>NOMBRE_INT</th>\n",
       "    </tr>\n",
       "  </thead>\n",
       "  <tbody>\n",
       "    <tr>\n",
       "      <th>0</th>\n",
       "      <td>2025-09-01</td>\n",
       "      <td>05:00</td>\n",
       "      <td>2</td>\n",
       "      <td>moderado</td>\n",
       "      <td>20 CALLE - 18 AVENIDA</td>\n",
       "      <td>0</td>\n",
       "      <td>0</td>\n",
       "    </tr>\n",
       "    <tr>\n",
       "      <th>1</th>\n",
       "      <td>2025-09-01</td>\n",
       "      <td>05:00</td>\n",
       "      <td>2</td>\n",
       "      <td>moderado</td>\n",
       "      <td>PROCERES - OBELISCO</td>\n",
       "      <td>0</td>\n",
       "      <td>1</td>\n",
       "    </tr>\n",
       "    <tr>\n",
       "      <th>2</th>\n",
       "      <td>2025-09-01</td>\n",
       "      <td>05:00</td>\n",
       "      <td>5</td>\n",
       "      <td>congestion grabe</td>\n",
       "      <td>ROOSEVELTH - TREBOL</td>\n",
       "      <td>1</td>\n",
       "      <td>2</td>\n",
       "    </tr>\n",
       "    <tr>\n",
       "      <th>3</th>\n",
       "      <td>2025-09-01</td>\n",
       "      <td>05:00</td>\n",
       "      <td>2</td>\n",
       "      <td>moderado</td>\n",
       "      <td>AG. BATRES - TREBOL</td>\n",
       "      <td>0</td>\n",
       "      <td>3</td>\n",
       "    </tr>\n",
       "    <tr>\n",
       "      <th>4</th>\n",
       "      <td>2025-09-01</td>\n",
       "      <td>05:00</td>\n",
       "      <td>4</td>\n",
       "      <td>congestion 5km/hora</td>\n",
       "      <td>SAN JUAN - TREBOL</td>\n",
       "      <td>2</td>\n",
       "      <td>4</td>\n",
       "    </tr>\n",
       "  </tbody>\n",
       "</table>\n",
       "</div>"
      ],
      "text/plain": [
       "        FECHA   HORA  ESTADO          TIPO_TRAFICO                 NOMBRE  \\\n",
       "0  2025-09-01  05:00       2              moderado  20 CALLE - 18 AVENIDA   \n",
       "1  2025-09-01  05:00       2              moderado    PROCERES - OBELISCO   \n",
       "2  2025-09-01  05:00       5      congestion grabe    ROOSEVELTH - TREBOL   \n",
       "3  2025-09-01  05:00       2              moderado    AG. BATRES - TREBOL   \n",
       "4  2025-09-01  05:00       4  congestion 5km/hora       SAN JUAN - TREBOL   \n",
       "\n",
       "   TIPO_TRAFICO_INT  NOMBRE_INT  \n",
       "0                 0           0  \n",
       "1                 0           1  \n",
       "2                 1           2  \n",
       "3                 0           3  \n",
       "4                 2           4  "
      ]
     },
     "execution_count": 10,
     "metadata": {},
     "output_type": "execute_result"
    }
   ],
   "source": [
    "df[\"TIPO_TRAFICO_INT\"], trafico_labels = pd.factorize(df[\"TIPO_TRAFICO\"])\n",
    "df[\"NOMBRE_INT\"], nombre_labels = pd.factorize(df[\"NOMBRE\"])\n",
    "\n",
    "print(\"TIPO_TRAFICO codificado:\")\n",
    "print(dict(enumerate(trafico_labels)))\n",
    "\n",
    "print(\"\\nNOMBRE codificado:\")\n",
    "print(dict(enumerate(nombre_labels[:10]))) \n",
    "\n",
    "df.head()"
   ]
  },
  {
   "cell_type": "code",
   "execution_count": 11,
   "id": "dff6c9d9",
   "metadata": {},
   "outputs": [
    {
     "name": "stdout",
     "output_type": "stream",
     "text": [
      "FECHA               0\n",
      "HORA                0\n",
      "ESTADO              0\n",
      "TIPO_TRAFICO        0\n",
      "NOMBRE              0\n",
      "TIPO_TRAFICO_INT    0\n",
      "NOMBRE_INT          0\n",
      "dtype: int64\n"
     ]
    }
   ],
   "source": [
    "# valores nulos\n",
    "print(df.isnull().sum())"
   ]
  },
  {
   "cell_type": "markdown",
   "id": "e96f9acb",
   "metadata": {},
   "source": [
    "### Creación de listas"
   ]
  },
  {
   "cell_type": "code",
   "execution_count": 12,
   "id": "b486ac4a",
   "metadata": {},
   "outputs": [],
   "source": [
    "ritmo = df[\"ESTADO\"].astype(int).tolist()\n",
    "melodia = df[\"TIPO_TRAFICO_INT\"].astype(int).tolist()\n",
    "textura = df[\"NOMBRE_INT\"].astype(int).tolist()"
   ]
  },
  {
   "cell_type": "code",
   "execution_count": 13,
   "id": "2fac4090",
   "metadata": {},
   "outputs": [
    {
     "name": "stdout",
     "output_type": "stream",
     "text": [
      "Tamaños: 4826 4826 4826\n",
      "\n",
      "Data ejemplo:\n",
      "Ritmo -> [2, 2, 5, 2, 4, 4, 4, 3, 4, 2]\n",
      "Melodía -> [0, 0, 1, 0, 2, 2, 2, 3, 2, 0]\n",
      "Textura -> [0, 1, 2, 3, 4, 5, 6, 7, 8, 9]\n"
     ]
    }
   ],
   "source": [
    "print(\"Tamaños:\", len(ritmo), len(melodia), len(textura))\n",
    "\n",
    "print(\"\\nData ejemplo:\")\n",
    "print(\"Ritmo ->\", ritmo[:10])\n",
    "print(\"Melodía ->\", melodia[:10])\n",
    "print(\"Textura ->\", textura[:10])"
   ]
  }
 ],
 "metadata": {
  "kernelspec": {
   "display_name": "Python 3",
   "language": "python",
   "name": "python3"
  },
  "language_info": {
   "codemirror_mode": {
    "name": "ipython",
    "version": 3
   },
   "file_extension": ".py",
   "mimetype": "text/x-python",
   "name": "python",
   "nbconvert_exporter": "python",
   "pygments_lexer": "ipython3",
   "version": "3.11.4"
  }
 },
 "nbformat": 4,
 "nbformat_minor": 5
}
